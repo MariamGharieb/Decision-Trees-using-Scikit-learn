{
 "cells": [
  {
   "cell_type": "code",
   "execution_count": 199,
   "metadata": {},
   "outputs": [],
   "source": [
    "#Importing the libraries\n",
    "import pandas as pd\n",
    "import numpy as np\n",
    "import matplotlib.pyplot as plt\n",
    "from sklearn.tree import DecisionTreeClassifier\n",
    "from sklearn.metrics import accuracy_score\n",
    "from sklearn.metrics import classification_report, confusion_matrix\n",
    "from sklearn import metrics"
   ]
  },
  {
   "cell_type": "code",
   "execution_count": 200,
   "metadata": {},
   "outputs": [
    {
     "name": "stdout",
     "output_type": "stream",
     "text": [
      "Requirement already satisfied: fpdf in c:\\users\\hp\\anaconda3\\lib\\site-packages (1.7.2)\n"
     ]
    }
   ],
   "source": [
    "! pip install fpdf\n",
    "from fpdf import FPDF"
   ]
  },
  {
   "cell_type": "code",
   "execution_count": 201,
   "metadata": {},
   "outputs": [
    {
     "name": "stdout",
     "output_type": "stream",
     "text": [
      "      variance  skewness  curtosis  entropy  class\n",
      "0      3.62160   8.66610   -2.8073 -0.44699      0\n",
      "1      4.54590   8.16740   -2.4586 -1.46210      0\n",
      "2      3.86600  -2.63830    1.9242  0.10645      0\n",
      "3      3.45660   9.52280   -4.0112 -3.59440      0\n",
      "4      0.32924  -4.45520    4.5718 -0.98880      0\n",
      "...        ...       ...       ...      ...    ...\n",
      "1367   0.40614   1.34920   -1.4501 -0.55949      1\n",
      "1368  -1.38870  -4.87730    6.4774  0.34179      1\n",
      "1369  -3.75030 -13.45860   17.5932 -2.77710      1\n",
      "1370  -3.56370  -8.38270   12.3930 -1.28230      1\n",
      "1371  -2.54190  -0.65804    2.6842  1.19520      1\n",
      "\n",
      "[1372 rows x 5 columns]\n"
     ]
    }
   ],
   "source": [
    "#Reading Data File\n",
    "ds = pd.read_csv('D:\\BankNote_Authentication.csv')\n",
    "print(ds)"
   ]
  },
  {
   "cell_type": "code",
   "execution_count": 202,
   "metadata": {},
   "outputs": [
    {
     "data": {
      "text/plain": [
       "(1372, 5)"
      ]
     },
     "execution_count": 202,
     "metadata": {},
     "output_type": "execute_result"
    }
   ],
   "source": [
    "#Num of rows and columns of the dataset.\n",
    "ds.shape"
   ]
  },
  {
   "cell_type": "code",
   "execution_count": 203,
   "metadata": {},
   "outputs": [
    {
     "data": {
      "text/html": [
       "<div>\n",
       "<style scoped>\n",
       "    .dataframe tbody tr th:only-of-type {\n",
       "        vertical-align: middle;\n",
       "    }\n",
       "\n",
       "    .dataframe tbody tr th {\n",
       "        vertical-align: top;\n",
       "    }\n",
       "\n",
       "    .dataframe thead th {\n",
       "        text-align: right;\n",
       "    }\n",
       "</style>\n",
       "<table border=\"1\" class=\"dataframe\">\n",
       "  <thead>\n",
       "    <tr style=\"text-align: right;\">\n",
       "      <th></th>\n",
       "      <th>variance</th>\n",
       "      <th>skewness</th>\n",
       "      <th>curtosis</th>\n",
       "      <th>entropy</th>\n",
       "      <th>class</th>\n",
       "    </tr>\n",
       "  </thead>\n",
       "  <tbody>\n",
       "    <tr>\n",
       "      <th>0</th>\n",
       "      <td>3.62160</td>\n",
       "      <td>8.6661</td>\n",
       "      <td>-2.8073</td>\n",
       "      <td>-0.44699</td>\n",
       "      <td>0</td>\n",
       "    </tr>\n",
       "    <tr>\n",
       "      <th>1</th>\n",
       "      <td>4.54590</td>\n",
       "      <td>8.1674</td>\n",
       "      <td>-2.4586</td>\n",
       "      <td>-1.46210</td>\n",
       "      <td>0</td>\n",
       "    </tr>\n",
       "    <tr>\n",
       "      <th>2</th>\n",
       "      <td>3.86600</td>\n",
       "      <td>-2.6383</td>\n",
       "      <td>1.9242</td>\n",
       "      <td>0.10645</td>\n",
       "      <td>0</td>\n",
       "    </tr>\n",
       "    <tr>\n",
       "      <th>3</th>\n",
       "      <td>3.45660</td>\n",
       "      <td>9.5228</td>\n",
       "      <td>-4.0112</td>\n",
       "      <td>-3.59440</td>\n",
       "      <td>0</td>\n",
       "    </tr>\n",
       "    <tr>\n",
       "      <th>4</th>\n",
       "      <td>0.32924</td>\n",
       "      <td>-4.4552</td>\n",
       "      <td>4.5718</td>\n",
       "      <td>-0.98880</td>\n",
       "      <td>0</td>\n",
       "    </tr>\n",
       "  </tbody>\n",
       "</table>\n",
       "</div>"
      ],
      "text/plain": [
       "   variance  skewness  curtosis  entropy  class\n",
       "0   3.62160    8.6661   -2.8073 -0.44699      0\n",
       "1   4.54590    8.1674   -2.4586 -1.46210      0\n",
       "2   3.86600   -2.6383    1.9242  0.10645      0\n",
       "3   3.45660    9.5228   -4.0112 -3.59440      0\n",
       "4   0.32924   -4.4552    4.5718 -0.98880      0"
      ]
     },
     "execution_count": 203,
     "metadata": {},
     "output_type": "execute_result"
    }
   ],
   "source": [
    "##Printing the first 5 rows of the dataset.\n",
    "ds.head()"
   ]
  },
  {
   "cell_type": "code",
   "execution_count": 204,
   "metadata": {},
   "outputs": [
    {
     "data": {
      "text/html": [
       "<div>\n",
       "<style scoped>\n",
       "    .dataframe tbody tr th:only-of-type {\n",
       "        vertical-align: middle;\n",
       "    }\n",
       "\n",
       "    .dataframe tbody tr th {\n",
       "        vertical-align: top;\n",
       "    }\n",
       "\n",
       "    .dataframe thead th {\n",
       "        text-align: right;\n",
       "    }\n",
       "</style>\n",
       "<table border=\"1\" class=\"dataframe\">\n",
       "  <thead>\n",
       "    <tr style=\"text-align: right;\">\n",
       "      <th></th>\n",
       "      <th>variance</th>\n",
       "      <th>skewness</th>\n",
       "      <th>curtosis</th>\n",
       "      <th>entropy</th>\n",
       "      <th>class</th>\n",
       "    </tr>\n",
       "  </thead>\n",
       "  <tbody>\n",
       "    <tr>\n",
       "      <th>count</th>\n",
       "      <td>1372.000000</td>\n",
       "      <td>1372.000000</td>\n",
       "      <td>1372.000000</td>\n",
       "      <td>1372.000000</td>\n",
       "      <td>1372.000000</td>\n",
       "    </tr>\n",
       "    <tr>\n",
       "      <th>mean</th>\n",
       "      <td>0.433735</td>\n",
       "      <td>1.922353</td>\n",
       "      <td>1.397627</td>\n",
       "      <td>-1.191657</td>\n",
       "      <td>0.444606</td>\n",
       "    </tr>\n",
       "    <tr>\n",
       "      <th>std</th>\n",
       "      <td>2.842763</td>\n",
       "      <td>5.869047</td>\n",
       "      <td>4.310030</td>\n",
       "      <td>2.101013</td>\n",
       "      <td>0.497103</td>\n",
       "    </tr>\n",
       "    <tr>\n",
       "      <th>min</th>\n",
       "      <td>-7.042100</td>\n",
       "      <td>-13.773100</td>\n",
       "      <td>-5.286100</td>\n",
       "      <td>-8.548200</td>\n",
       "      <td>0.000000</td>\n",
       "    </tr>\n",
       "    <tr>\n",
       "      <th>25%</th>\n",
       "      <td>-1.773000</td>\n",
       "      <td>-1.708200</td>\n",
       "      <td>-1.574975</td>\n",
       "      <td>-2.413450</td>\n",
       "      <td>0.000000</td>\n",
       "    </tr>\n",
       "    <tr>\n",
       "      <th>50%</th>\n",
       "      <td>0.496180</td>\n",
       "      <td>2.319650</td>\n",
       "      <td>0.616630</td>\n",
       "      <td>-0.586650</td>\n",
       "      <td>0.000000</td>\n",
       "    </tr>\n",
       "    <tr>\n",
       "      <th>75%</th>\n",
       "      <td>2.821475</td>\n",
       "      <td>6.814625</td>\n",
       "      <td>3.179250</td>\n",
       "      <td>0.394810</td>\n",
       "      <td>1.000000</td>\n",
       "    </tr>\n",
       "    <tr>\n",
       "      <th>max</th>\n",
       "      <td>6.824800</td>\n",
       "      <td>12.951600</td>\n",
       "      <td>17.927400</td>\n",
       "      <td>2.449500</td>\n",
       "      <td>1.000000</td>\n",
       "    </tr>\n",
       "  </tbody>\n",
       "</table>\n",
       "</div>"
      ],
      "text/plain": [
       "          variance     skewness     curtosis      entropy        class\n",
       "count  1372.000000  1372.000000  1372.000000  1372.000000  1372.000000\n",
       "mean      0.433735     1.922353     1.397627    -1.191657     0.444606\n",
       "std       2.842763     5.869047     4.310030     2.101013     0.497103\n",
       "min      -7.042100   -13.773100    -5.286100    -8.548200     0.000000\n",
       "25%      -1.773000    -1.708200    -1.574975    -2.413450     0.000000\n",
       "50%       0.496180     2.319650     0.616630    -0.586650     0.000000\n",
       "75%       2.821475     6.814625     3.179250     0.394810     1.000000\n",
       "max       6.824800    12.951600    17.927400     2.449500     1.000000"
      ]
     },
     "execution_count": 204,
     "metadata": {},
     "output_type": "execute_result"
    }
   ],
   "source": [
    "##Statistical Analysis.\n",
    "ds.describe()"
   ]
  },
  {
   "cell_type": "code",
   "execution_count": 205,
   "metadata": {},
   "outputs": [
    {
     "data": {
      "text/html": [
       "<div>\n",
       "<style scoped>\n",
       "    .dataframe tbody tr th:only-of-type {\n",
       "        vertical-align: middle;\n",
       "    }\n",
       "\n",
       "    .dataframe tbody tr th {\n",
       "        vertical-align: top;\n",
       "    }\n",
       "\n",
       "    .dataframe thead th {\n",
       "        text-align: right;\n",
       "    }\n",
       "</style>\n",
       "<table border=\"1\" class=\"dataframe\">\n",
       "  <thead>\n",
       "    <tr style=\"text-align: right;\">\n",
       "      <th></th>\n",
       "      <th>variance</th>\n",
       "      <th>skewness</th>\n",
       "      <th>curtosis</th>\n",
       "      <th>entropy</th>\n",
       "    </tr>\n",
       "    <tr>\n",
       "      <th>class</th>\n",
       "      <th></th>\n",
       "      <th></th>\n",
       "      <th></th>\n",
       "      <th></th>\n",
       "    </tr>\n",
       "  </thead>\n",
       "  <tbody>\n",
       "    <tr>\n",
       "      <th>0</th>\n",
       "      <td>2.276686</td>\n",
       "      <td>4.256627</td>\n",
       "      <td>0.796718</td>\n",
       "      <td>-1.147640</td>\n",
       "    </tr>\n",
       "    <tr>\n",
       "      <th>1</th>\n",
       "      <td>-1.868443</td>\n",
       "      <td>-0.993576</td>\n",
       "      <td>2.148271</td>\n",
       "      <td>-1.246641</td>\n",
       "    </tr>\n",
       "  </tbody>\n",
       "</table>\n",
       "</div>"
      ],
      "text/plain": [
       "       variance  skewness  curtosis   entropy\n",
       "class                                        \n",
       "0      2.276686  4.256627  0.796718 -1.147640\n",
       "1     -1.868443 -0.993576  2.148271 -1.246641"
      ]
     },
     "execution_count": 205,
     "metadata": {},
     "output_type": "execute_result"
    }
   ],
   "source": [
    "ds.groupby('class').mean()"
   ]
  },
  {
   "cell_type": "code",
   "execution_count": 206,
   "metadata": {},
   "outputs": [
    {
     "name": "stdout",
     "output_type": "stream",
     "text": [
      "      variance  skewness  curtosis  entropy\n",
      "0      3.62160   8.66610   -2.8073 -0.44699\n",
      "1      4.54590   8.16740   -2.4586 -1.46210\n",
      "2      3.86600  -2.63830    1.9242  0.10645\n",
      "3      3.45660   9.52280   -4.0112 -3.59440\n",
      "4      0.32924  -4.45520    4.5718 -0.98880\n",
      "...        ...       ...       ...      ...\n",
      "1367   0.40614   1.34920   -1.4501 -0.55949\n",
      "1368  -1.38870  -4.87730    6.4774  0.34179\n",
      "1369  -3.75030 -13.45860   17.5932 -2.77710\n",
      "1370  -3.56370  -8.38270   12.3930 -1.28230\n",
      "1371  -2.54190  -0.65804    2.6842  1.19520\n",
      "\n",
      "[1372 rows x 4 columns]\n"
     ]
    }
   ],
   "source": [
    "#Assign the features to X and class to Y.\n",
    "X = ds.drop('class', axis=1)\n",
    "Y = ds['class']\n",
    "print( X)"
   ]
  },
  {
   "attachments": {},
   "cell_type": "markdown",
   "metadata": {},
   "source": [
    "# Experiment with a fixed train_test split ratio:               "
   ]
  },
  {
   "cell_type": "code",
   "execution_count": 207,
   "metadata": {},
   "outputs": [
    {
     "name": "stdout",
     "output_type": "stream",
     "text": [
      "343\n",
      "1029\n"
     ]
    }
   ],
   "source": [
    "from sklearn.model_selection import train_test_split\n",
    "X_train, X_test, y_train, y_test = train_test_split(X, Y, test_size=0.75, random_state=42)  # 25% training and 75% testing.\n",
    "print(X_train.shape[0])\n",
    "print(X_test.shape[0])"
   ]
  },
  {
   "attachments": {},
   "cell_type": "markdown",
   "metadata": {},
   "source": [
    "**Building Decision Tree Model**                "
   ]
  },
  {
   "cell_type": "code",
   "execution_count": 208,
   "metadata": {},
   "outputs": [],
   "source": [
    "#Create Decision Tree classifer object\n",
    "clf = DecisionTreeClassifier()\n",
    "# Train Decision Tree Classifer\n",
    "clf = clf.fit(X_train, y_train )"
   ]
  },
  {
   "cell_type": "code",
   "execution_count": 209,
   "metadata": {},
   "outputs": [],
   "source": [
    "#predtiction on testing dataset                                                     \n",
    "y_pred = clf.predict(X_test)"
   ]
  },
  {
   "attachments": {},
   "cell_type": "markdown",
   "metadata": {},
   "source": [
    "**Evaluating Model**"
   ]
  },
  {
   "cell_type": "code",
   "execution_count": 210,
   "metadata": {},
   "outputs": [
    {
     "name": "stdout",
     "output_type": "stream",
     "text": [
      "Accuracy:  0.9757045675413022\n"
     ]
    }
   ],
   "source": [
    "# Model Accuracy, how often is the classifier correct.\n",
    "print(\"Accuracy: \",metrics.accuracy_score(y_test, y_pred))"
   ]
  },
  {
   "cell_type": "code",
   "execution_count": 211,
   "metadata": {},
   "outputs": [
    {
     "name": "stdout",
     "output_type": "stream",
     "text": [
      "29\n",
      "              precision    recall  f1-score   support\n",
      "\n",
      "           0       0.97      0.99      0.98       584\n",
      "           1       0.98      0.96      0.97       445\n",
      "\n",
      "    accuracy                           0.98      1029\n",
      "   macro avg       0.98      0.97      0.98      1029\n",
      "weighted avg       0.98      0.98      0.98      1029\n",
      "\n"
     ]
    }
   ],
   "source": [
    "#print(confusion_matrix(y_test, y_pred))\n",
    "#Size of the tree\n",
    "print(clf.tree_.node_count)\n",
    "print(classification_report(y_test, y_pred))"
   ]
  },
  {
   "attachments": {},
   "cell_type": "markdown",
   "metadata": {},
   "source": [
    "# Experiment with a range of train_test split ratio[30% - 70%]:"
   ]
  },
  {
   "cell_type": "code",
   "execution_count": 212,
   "metadata": {},
   "outputs": [
    {
     "name": "stdout",
     "output_type": "stream",
     "text": [
      "If Train Size = 0.3\n",
      "Accuracy = 0.98 , Tree Size = 43\n",
      "Accuracy = 0.99 , Tree Size = 51\n",
      "Accuracy = 0.98 , Tree Size = 55\n",
      "Accuracy = 0.98 , Tree Size = 47\n",
      "Accuracy = 0.99 , Tree Size = 51\n",
      "Min Accuracy = 97.82 , Max Accuracy = 99.03 , Mean Accuracy = 98.25\n",
      "Min Tree Size = 43 , Max Tree Size = 55 , Mean Tree Size = 49.4\n",
      "\n",
      "If Train Size = 0.4\n",
      "Accuracy = 0.98 , Tree Size = 45\n",
      "Accuracy = 0.99 , Tree Size = 35\n",
      "Accuracy = 0.98 , Tree Size = 43\n",
      "Accuracy = 0.97 , Tree Size = 49\n",
      "Accuracy = 0.98 , Tree Size = 49\n",
      "Min Accuracy = 97.27 , Max Accuracy = 98.54 , Mean Accuracy = 98.0\n",
      "Min Tree Size = 35 , Max Tree Size = 49 , Mean Tree Size = 44.2\n",
      "\n",
      "If Train Size = 0.5\n",
      "Accuracy = 0.96 , Tree Size = 47\n",
      "Accuracy = 0.99 , Tree Size = 33\n",
      "Accuracy = 0.98 , Tree Size = 35\n",
      "Accuracy = 0.97 , Tree Size = 51\n",
      "Accuracy = 0.97 , Tree Size = 49\n",
      "Min Accuracy = 96.36 , Max Accuracy = 98.54 , Mean Accuracy = 97.2\n",
      "Min Tree Size = 33 , Max Tree Size = 51 , Mean Tree Size = 43.0\n",
      "\n",
      "If Train Size = 0.6\n",
      "Accuracy = 0.98 , Tree Size = 33\n",
      "Accuracy = 0.98 , Tree Size = 37\n",
      "Accuracy = 0.97 , Tree Size = 31\n",
      "Accuracy = 0.96 , Tree Size = 47\n",
      "Accuracy = 0.99 , Tree Size = 33\n",
      "Min Accuracy = 96.48 , Max Accuracy = 98.79 , Mean Accuracy = 97.57\n",
      "Min Tree Size = 31 , Max Tree Size = 47 , Mean Tree Size = 36.2\n",
      "\n",
      "If Train Size = 0.7\n",
      "Accuracy = 0.97 , Tree Size = 23\n",
      "Accuracy = 0.99 , Tree Size = 31\n",
      "Accuracy = 0.97 , Tree Size = 33\n",
      "Accuracy = 0.96 , Tree Size = 35\n",
      "Accuracy = 0.99 , Tree Size = 31\n",
      "Min Accuracy = 96.46 , Max Accuracy = 98.86 , Mean Accuracy = 97.48\n",
      "Min Tree Size = 23 , Max Tree Size = 35 , Mean Tree Size = 30.6\n",
      "\n"
     ]
    }
   ],
   "source": [
    "All_Accuracy= [] \n",
    "All_Size= [] \n",
    "testSize = [0.3,0.4,0.5,0.6,0.7] \n",
    "pdf = FPDF() # create pdf \n",
    " \n",
    "pdf.add_page() #add page! \n",
    "pdf.set_font(\"Arial\", size=12) # font \n",
    "for s in testSize: \n",
    "    print(\"If Train Size = \" + str(s)) \n",
    "    pdf.cell(200, 10, txt=\"If Train Size\"+str(s), ln=1, align=\"L\") \n",
    " \n",
    "    Accuracy_Array=[]   \n",
    "    NODES_Array=[]          \n",
    " \n",
    "    for i in range(5): \n",
    "        X_train, X_test, y_train, y_test = train_test_split(X, Y, test_size=s, random_state= i) \n",
    "        X_train.shape, X_test.shape, y_train.shape, y_test.shape \n",
    " \n",
    "        clf = DecisionTreeClassifier() \n",
    "        clf.fit(X_train, y_train) \n",
    " \n",
    "        y_test_pred = clf.predict(X_test) \n",
    "        #Valid accuracy  \n",
    "        Accuracy_VAL = metrics.accuracy_score(y_test, y_test_pred) \n",
    " \n",
    "        Accuracy_Array.append(Accuracy_VAL) \n",
    "        NODES_Array.append(clf.tree_.node_count) \n",
    "        print(\"Accuracy = {} , Tree Size = {}\".format(round(Accuracy_VAL,2),clf.tree_.node_count)) \n",
    "        pdf.cell(200, 10, txt=str(i+1)+\")Accuracy: \"+str(Accuracy_VAL), ln=1, align=\"L\") \n",
    " \n",
    "    All_Accuracy.append(np.mean(Accuracy_Array)*100) \n",
    "    All_Size.append(np.mean(NODES_Array)) \n",
    "    print(f\"Min Accuracy = {round(np.min(Accuracy_Array)*100,2)} , Max Accuracy = {round(np.max(Accuracy_Array)*100,2)} , Mean Accuracy = {round(np.mean(Accuracy_Array)*100,2)}\") \n",
    "    pdf.cell(200, 10, txt=\"Min Accuracy = \"+str(round(np.min(Accuracy_Array)*100,2)), ln=1, align=\"L\") \n",
    "    pdf.cell(200, 10, txt=\"Max Accuracy = \"+str(round(np.max(Accuracy_Array)*100,2)), ln=1, align=\"L\") \n",
    "    pdf.cell(200, 10, txt=\"Mean Accuracy= \"+str(round(np.mean(Accuracy_Array)*100,2)), ln=1, align=\"L\") \n",
    " \n",
    "    print(f\"Min Tree Size = {np.min(NODES_Array)} , Max Tree Size = {np.max(NODES_Array)} , Mean Tree Size = {np.mean(NODES_Array)}\\n\") \n",
    "    pdf.cell(200, 10, txt=\"Min Tree Size =  \"+str(np.min(NODES_Array)), ln=1, align=\"L\") \n",
    "    pdf.cell(200, 10, txt=\"Max Tree Size =  \"+str(np.max(NODES_Array)), ln=1, align=\"L\") \n",
    "    pdf.cell(200, 10, txt=\"Mean Tree Size =  \"+str(np.mean(NODES_Array)), ln=1, align=\"L\")\n",
    "     \n",
    "    #pdf.cell(200, 10, txt=str(i+1)+\")Accuracy: \"+str(All_Accuracy), ln=1, align=\"L\") \n",
    "    #pdf.cell(200, 10, txt=\"  Size: \"+str(testSize), ln=1, align=\"L\") \n",
    " \n",
    "    #print(\"Accuracy = {} , Tree Size = {}\".format(round(Accuracy_VAL,2),clf.tree_.node_count)) \n",
    "    #print(\"Accuracy = {} , Tree Size = {}\".format(round(Accuracy_VAL,2),clf.tree_.node_count))\n"
   ]
  },
  {
   "cell_type": "code",
   "execution_count": 213,
   "metadata": {},
   "outputs": [
    {
     "data": {
      "image/png": "[encoded data removed]",
      "text/plain": [
       "<Figure size 432x288 with 1 Axes>"
      ]
     },
     "metadata": {
      "needs_background": "light"
     },
     "output_type": "display_data"
    }
   ],
   "source": [
    "plt.plot(testSize,All_Accuracy)\n",
    "\n",
    "plt.xlabel(\"Train Set Size\")\n",
    "plt.ylabel(\"Accuracy\")\n",
    "\n",
    "plt.show()"
   ]
  },
  {
   "cell_type": "code",
   "execution_count": 214,
   "metadata": {},
   "outputs": [
    {
     "data": {
      "image/png": "[encoded data removed]",
      "text/plain": [
       "<Figure size 432x288 with 1 Axes>"
      ]
     },
     "metadata": {
      "needs_background": "light"
     },
     "output_type": "display_data"
    }
   ],
   "source": [
    "plt.plot(NODES_Array,All_Size)\n",
    "\n",
    "plt.ylabel(\"Number Of Nodes\")\n",
    "plt.xlabel(\"Training Set Size\")\n",
    "\n",
    "plt.show()"
   ]
  },
  {
   "cell_type": "code",
   "execution_count": 215,
   "metadata": {},
   "outputs": [
    {
     "data": {
      "text/plain": [
       "''"
      ]
     },
     "execution_count": 215,
     "metadata": {},
     "output_type": "execute_result"
    }
   ],
   "source": [
    "pdf.output(\"Accuracy_Array.pdf\") # output file "
   ]
  }
 ],
 "metadata": {
  "kernelspec": {
   "display_name": "base",
   "language": "python",
   "name": "python3"
  },
  "language_info": {
   "codemirror_mode": {
    "name": "ipython",
    "version": 3
   },
   "file_extension": ".py",
   "mimetype": "text/x-python",
   "name": "python",
   "nbconvert_exporter": "python",
   "pygments_lexer": "ipython3",
   "version": "3.9.7"
  },
  "orig_nbformat": 4,
  "vscode": {
   "interpreter": {
    "hash": "b302cdd1e032ee910f5c889c3360c28564c92ad4f326fc3102e39fbe47faee66"
   }
  }
 },
 "nbformat": 4,
 "nbformat_minor": 2
}
